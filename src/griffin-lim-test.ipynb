{
 "cells": [
  {
   "cell_type": "code",
   "execution_count": null,
   "metadata": {},
   "outputs": [],
   "source": [
    "import librosa\n",
    "import glob\n",
    "import random\n",
    "\n",
    "from librosa import display\n",
    "\n",
    "import scipy as sp\n",
    "import numpy as np"
   ]
  },
  {
   "cell_type": "code",
   "execution_count": null,
   "metadata": {},
   "outputs": [],
   "source": [
    "import matplotlib.pyplot as plt"
   ]
  },
  {
   "cell_type": "code",
   "execution_count": null,
   "metadata": {},
   "outputs": [],
   "source": [
    "file_list = sorted(glob.glob('../resource/*.wav'))"
   ]
  },
  {
   "cell_type": "code",
   "execution_count": null,
   "metadata": {},
   "outputs": [],
   "source": [
    "file = random.choice(file_list)"
   ]
  },
  {
   "cell_type": "code",
   "execution_count": null,
   "metadata": {},
   "outputs": [],
   "source": [
    "sec = 5\n",
    "\n",
    "fs = librosa.get_samplerate(file)\n",
    "\n",
    "print('Sampling Rate: {}'.format(fs))\n",
    "\n",
    "stream = librosa.core.stream(file, 1, sec * fs, sec * fs, mono=False)\n",
    "\n",
    "# next(stream)"
   ]
  },
  {
   "cell_type": "code",
   "execution_count": null,
   "metadata": {},
   "outputs": [],
   "source": [
    "def spec2mel(img):\n",
    "    return 20 * np.log(np.maximum(img, 1e-8))"
   ]
  },
  {
   "cell_type": "code",
   "execution_count": null,
   "metadata": {},
   "outputs": [],
   "source": [
    "import IPython.display as ipd\n",
    "ipd.Audio(data, rate = 16000) # load a local WAV file"
   ]
  },
  {
   "cell_type": "code",
   "execution_count": null,
   "metadata": {},
   "outputs": [],
   "source": [
    "data = next(stream)\n",
    "\n",
    "T, F, Sxx = sp.signal.stft(data, fs=16000, nperseg=400)\n",
    "\n",
    "Zxx = np.abs(Sxx)\n",
    "\n",
    "plt.figure()\n",
    "plt.imshow(spec2mel(Zxx[0]), origin='reversed', aspect='auto')\n",
    "plt.show()\n",
    "\n",
    "plt.figure()\n",
    "plt.imshow(spec2mel(Zxx[1]), origin='reversed', aspect='auto')\n",
    "plt.show()\n",
    "\n",
    "print(Sxx.shape)"
   ]
  },
  {
   "cell_type": "code",
   "execution_count": null,
   "metadata": {},
   "outputs": [],
   "source": [
    "S.shape"
   ]
  },
  {
   "cell_type": "code",
   "execution_count": null,
   "metadata": {},
   "outputs": [],
   "source": [
    "ipd.Audio([y1, y2], rate=16000)"
   ]
  },
  {
   "cell_type": "code",
   "execution_count": null,
   "metadata": {},
   "outputs": [],
   "source": [
    "ipd.Audio([data_1, data_2], rate=16000)"
   ]
  },
  {
   "cell_type": "code",
   "execution_count": null,
   "metadata": {},
   "outputs": [],
   "source": [
    "data = next(stream)\n",
    "\n",
    "T, F, Sxx = sp.signal.stft(data, fs=16000, nperseg=400)\n",
    "\n",
    "Zxx = np.abs(Sxx)\n",
    "\n",
    "y1 = np.copy(data[0, :])\n",
    "y2 = np.copy(data[1, :])\n",
    "\n",
    "Zxx[0] = np.abs(librosa.stft(y1, n_fft=400, hop_length=200, win_length=400))\n",
    "Zxx[1] = np.abs(librosa.stft(y2, n_fft=400, hop_length=200, win_length=400))\n",
    "\n",
    "\n",
    "plt.figure()\n",
    "plt.plot(data.T)\n",
    "plt.show()\n",
    "\n",
    "data_1 = librosa.core.griffinlim(Zxx[0], n_iter=64, win_length=400, hop_length=200)\n",
    "data_2 = librosa.core.griffinlim(Zxx[1], n_iter=64, win_length=400, hop_length=200)\n",
    "\n",
    "plt.figure()\n",
    "plt.plot(data_1)\n",
    "plt.plot(data_2)\n",
    "plt.show()\n",
    "\n",
    "## Highpass Filtering might help improving audio quality\n",
    "\n",
    "\n"
   ]
  },
  {
   "cell_type": "code",
   "execution_count": null,
   "metadata": {
    "scrolled": false
   },
   "outputs": [],
   "source": [
    "for i in range(1):\n",
    "    data = next(stream)\n",
    "    plt.figure()\n",
    "    plt.plot(data.T)\n",
    "    plt.show()"
   ]
  }
 ],
 "metadata": {
  "kernelspec": {
   "display_name": "Python 3",
   "language": "python",
   "name": "python3"
  },
  "language_info": {
   "codemirror_mode": {
    "name": "ipython",
    "version": 3
   },
   "file_extension": ".py",
   "mimetype": "text/x-python",
   "name": "python",
   "nbconvert_exporter": "python",
   "pygments_lexer": "ipython3",
   "version": "3.7.5"
  }
 },
 "nbformat": 4,
 "nbformat_minor": 2
}
