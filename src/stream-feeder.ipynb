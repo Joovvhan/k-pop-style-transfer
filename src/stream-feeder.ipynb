{
 "cells": [
  {
   "cell_type": "code",
   "execution_count": 23,
   "metadata": {},
   "outputs": [],
   "source": [
    "import librosa\n",
    "import glob\n",
    "import random\n",
    "\n",
    "from librosa import display\n",
    "\n",
    "import scipy as sp\n",
    "import numpy as np\n",
    "\n",
    "import matplotlib.pyplot as plt\n",
    "\n",
    "import IPython.display as ipd\n",
    "\n",
    "import time"
   ]
  },
  {
   "cell_type": "code",
   "execution_count": 2,
   "metadata": {},
   "outputs": [],
   "source": [
    "import threading\n",
    "import queue"
   ]
  },
  {
   "cell_type": "code",
   "execution_count": 3,
   "metadata": {},
   "outputs": [
    {
     "data": {
      "text/plain": [
       "threading.Thread"
      ]
     },
     "execution_count": 3,
     "metadata": {},
     "output_type": "execute_result"
    }
   ],
   "source": [
    "threading.Thread"
   ]
  },
  {
   "cell_type": "code",
   "execution_count": 4,
   "metadata": {},
   "outputs": [],
   "source": [
    "file_list = sorted(glob.glob('../resource/*.wav'))"
   ]
  },
  {
   "cell_type": "code",
   "execution_count": 5,
   "metadata": {},
   "outputs": [
    {
     "name": "stdout",
     "output_type": "stream",
     "text": [
      "../resource/17. DDU-DU DDU-DU (O-B).wav\n"
     ]
    }
   ],
   "source": [
    "file = random.choice(file_list)\n",
    "\n",
    "print(file)"
   ]
  },
  {
   "cell_type": "code",
   "execution_count": 24,
   "metadata": {},
   "outputs": [],
   "source": [
    "def file2stream(file, sec, offset=0):\n",
    "    \n",
    "    fs = librosa.get_samplerate(file)\n",
    "    \n",
    "    stream = librosa.core.stream(file, 1, sec * fs, sec * fs, mono=False, offset=offset, fill_value=0)\n",
    "    \n",
    "    return stream\n",
    "\n",
    "class StreamFeeder():\n",
    "    \n",
    "    def __init__(self, file_list):\n",
    "        self.file_list = file_list\n",
    "        self.sec = 5\n",
    "        self.queue = queue.Queue(maxsize=20)\n",
    "        self.batch_size = 16\n",
    "        self.end_of_batching = False\n",
    "        \n",
    "    def shuffle(self):\n",
    "        random.shuffle(self.file_list)\n",
    "        \n",
    "    def start_stream_feeding(self):\n",
    "        \n",
    "        t = threading.Thread(target=self.stream_feeding, args=())\n",
    "        \n",
    "        t.start()\n",
    "        \n",
    "        return\n",
    "        \n",
    "    def stream_feeding(self):\n",
    "        \n",
    "        self.shuffle()\n",
    "        self.end_of_batching = False\n",
    "        \n",
    "        input_specgram_list = list()\n",
    "        output_specgram_list = list()\n",
    "        \n",
    "        for file in self.file_list:\n",
    "            offset = 5 * random.random()\n",
    "            for data in file2stream(file, self.sec, offset):\n",
    "                T, F, Sxx = sp.signal.stft(data, fs=16000, nperseg=400)\n",
    "                Zxx = np.abs(Sxx)\n",
    "                spectrogram = 20 * np.log10(np.maximum(Zxx, 1e-8)) / 160\n",
    "                \n",
    "                input_specgram = spectrogram[0, :, :]\n",
    "                output_specgram = spectrogram[1, :, :]\n",
    "                \n",
    "                input_specgram_list.append(input_specgram)\n",
    "                output_specgram_list.append(output_specgram)\n",
    "                \n",
    "                if len(input_specgram_list) >= self.batch_size:\n",
    "                    try:\n",
    "                        self.queue.put((np.stack(input_specgram_list), np.stack(output_specgram_list)))\n",
    "                    except:\n",
    "                        for spec in input_specgram_list:\n",
    "                            print(spec.shape)\n",
    "                        \n",
    "                        for spec in output_specgram_list:\n",
    "                            print(spec.shape)\n",
    "                    \n",
    "                    input_specgram_list = list()\n",
    "                    output_specgram_list = list()\n",
    "        \n",
    "        if len(input_specgram_list) > 0:\n",
    "            self.queue.put((np.stack(input_specgram_list), np.stack(input_specgram_list)))\n",
    "            input_specgram_list = list()\n",
    "            output_specgram_list = list()\n",
    "            \n",
    "        self.end_of_batching = True\n",
    "    \n",
    "    def batch_generator(self):\n",
    "        \n",
    "        while not self.end_of_batching or not self.queue.empty():\n",
    "            \n",
    "            try:\n",
    "                yield self.queue.get_nowait()\n",
    "            except:\n",
    "                time.sleep(1)\n",
    "                \n",
    "        return\n",
    "            "
   ]
  },
  {
   "cell_type": "code",
   "execution_count": 25,
   "metadata": {},
   "outputs": [],
   "source": [
    "stream_feeder = StreamFeeder(file_list)"
   ]
  },
  {
   "cell_type": "code",
   "execution_count": 33,
   "metadata": {
    "scrolled": true
   },
   "outputs": [],
   "source": [
    "stream_feeder.start_stream_feeding()"
   ]
  },
  {
   "cell_type": "code",
   "execution_count": 37,
   "metadata": {},
   "outputs": [
    {
     "data": {
      "text/plain": [
       "(16, 201, 401)"
      ]
     },
     "execution_count": 37,
     "metadata": {},
     "output_type": "execute_result"
    }
   ],
   "source": [
    "batch[0].shape"
   ]
  },
  {
   "cell_type": "code",
   "execution_count": 39,
   "metadata": {},
   "outputs": [],
   "source": [
    "import torch.nn as nn\n",
    "import torch.nn.functional as F"
   ]
  },
  {
   "cell_type": "code",
   "execution_count": null,
   "metadata": {},
   "outputs": [],
   "source": [
    "class ConvModel(nn.Module):\n",
    "    \n",
    "    def __init__(self):\n",
    "        super(ConvModel, self).__init__()\n",
    "        self.conv1 = nn.Conv2d(1, 128, 3, )\n",
    "        \n",
    "    def forward(self, tensor):\n",
    "    "
   ]
  },
  {
   "cell_type": "code",
   "execution_count": 35,
   "metadata": {
    "scrolled": true
   },
   "outputs": [
    {
     "name": "stdout",
     "output_type": "stream",
     "text": [
      "0\n"
     ]
    },
    {
     "name": "stderr",
     "output_type": "stream",
     "text": [
      "Exception ignored in: <generator object StreamFeeder.batch_generator at 0x1c2916fed0>\n",
      "RuntimeError: generator ignored GeneratorExit\n"
     ]
    }
   ],
   "source": [
    "for i, batch in enumerate(stream_feeder.batch_generator()):\n",
    "    print(i)\n",
    "    break"
   ]
  },
  {
   "cell_type": "code",
   "execution_count": null,
   "metadata": {},
   "outputs": [],
   "source": [
    "sec = 5\n",
    "\n",
    "offset=0\n",
    "\n",
    "fs = librosa.get_samplerate(file)\n",
    "\n",
    "print('Sampling Rate: {}'.format(fs))\n",
    "\n",
    "stream = librosa.core.stream(file, 1, sec * fs, sec * fs, mono=False, offset=offset)\n",
    "\n",
    "# next(stream)"
   ]
  },
  {
   "cell_type": "code",
   "execution_count": null,
   "metadata": {},
   "outputs": [],
   "source": [
    "def spec2mel(img):\n",
    "    return 20 * np.log(np.maximum(img, 1e-8))"
   ]
  },
  {
   "cell_type": "code",
   "execution_count": null,
   "metadata": {},
   "outputs": [],
   "source": [
    "# data = next(stream)\n",
    "\n",
    "# T, F, Sxx = sp.signal.stft(data, fs=16000, nperseg=400)\n",
    "\n",
    "# Zxx = np.abs(Sxx)\n",
    "\n",
    "# plt.figure()\n",
    "# plt.imshow(spec2mel(Zxx[0]), origin='reversed', aspect='auto')\n",
    "# plt.show()\n",
    "\n",
    "# plt.figure()\n",
    "# plt.imshow(spec2mel(Zxx[1]), origin='reversed', aspect='auto')\n",
    "# plt.show()\n",
    "\n",
    "# print(Sxx.shape)"
   ]
  },
  {
   "cell_type": "code",
   "execution_count": null,
   "metadata": {},
   "outputs": [],
   "source": [
    "data = next(stream)"
   ]
  },
  {
   "cell_type": "code",
   "execution_count": null,
   "metadata": {},
   "outputs": [],
   "source": [
    "ipd.Audio(data, rate=16000)"
   ]
  },
  {
   "cell_type": "code",
   "execution_count": null,
   "metadata": {},
   "outputs": [],
   "source": [
    "T, F, Sxx = sp.signal.stft(data, fs=16000, nperseg=400)\n",
    "\n",
    "Zxx_origin = np.abs(Sxx)\n",
    "\n",
    "Zxx[0] = np.abs(librosa.stft(y1, n_fft=400, hop_length=200, win_length=400))"
   ]
  },
  {
   "cell_type": "code",
   "execution_count": null,
   "metadata": {},
   "outputs": [],
   "source": [
    "plt.plot(Zxx.flatten() / len(y1))"
   ]
  },
  {
   "cell_type": "code",
   "execution_count": null,
   "metadata": {},
   "outputs": [],
   "source": [
    "# data = next(stream)\n",
    "\n",
    "y1 = np.copy(data[0, :])\n",
    "y2 = np.copy(data[1, :])\n",
    "\n",
    "T, F, Sxx = sp.signal.stft(data, fs=16000, nperseg=400)\n",
    "\n",
    "Zxx = np.abs(Sxx)\n",
    "Zxx_recon = np.zeros(Zxx.shape)\n",
    "\n",
    "Zxx[0] = np.abs(librosa.stft(y1, n_fft=400, hop_length=200, win_length=400))\n",
    "Zxx[1] = np.abs(librosa.stft(y2, n_fft=400, hop_length=200, win_length=400))\n",
    "\n",
    "data_1 = librosa.core.griffinlim(Zxx[0], n_iter=64, win_length=400, hop_length=200)\n",
    "data_2 = librosa.core.griffinlim(Zxx[1], n_iter=64, win_length=400, hop_length=200)\n",
    "\n",
    "Zxx_recon[0] = np.abs(librosa.stft(data_1, n_fft=400, hop_length=200, win_length=400))\n",
    "Zxx_recon[1] = np.abs(librosa.stft(data_2, n_fft=400, hop_length=200, win_length=400))\n",
    "\n",
    "fig, axes = plt.subplots(2, 3, figsize=(18, 12))\n",
    "\n",
    "axes = axes.flatten()\n",
    "\n",
    "axes[0].imshow(Zxx[0], aspect='auto', origin='reversed')\n",
    "axes[1].imshow(Zxx_recon[0], aspect='auto', origin='reversed')\n",
    "im = axes[2].imshow(Zxx[0] - Zxx_recon[0], aspect='auto', origin='reversed')\n",
    "im.set_clim([-2, 2])\n",
    "\n",
    "\n",
    "axes[3].imshow(Zxx[1], aspect='auto', origin='reversed')\n",
    "axes[4].imshow(Zxx_recon[1], aspect='auto', origin='reversed')\n",
    "im = axes[5].imshow(Zxx[1] - Zxx_recon[1], aspect='auto', origin='reversed')\n",
    "im.set_clim([-2, 2])\n",
    "\n",
    "plt.show()\n",
    "\n",
    "## Highpass Filtering might help improving audio quality\n",
    "\n",
    "fig, axes = plt.subplots(2, 1, figsize=(12, 12))\n",
    "\n",
    "axes = axes.flatten()\n",
    "\n",
    "axes[0].plot(data_1)\n",
    "axes[0].plot(y1)\n",
    "\n",
    "axes[1].plot(data_2)\n",
    "axes[1].plot(y2)\n",
    "\n",
    "plt.show()\n",
    "\n"
   ]
  },
  {
   "cell_type": "code",
   "execution_count": null,
   "metadata": {},
   "outputs": [],
   "source": []
  }
 ],
 "metadata": {
  "kernelspec": {
   "display_name": "Python 3",
   "language": "python",
   "name": "python3"
  },
  "language_info": {
   "codemirror_mode": {
    "name": "ipython",
    "version": 3
   },
   "file_extension": ".py",
   "mimetype": "text/x-python",
   "name": "python",
   "nbconvert_exporter": "python",
   "pygments_lexer": "ipython3",
   "version": "3.7.5"
  }
 },
 "nbformat": 4,
 "nbformat_minor": 2
}
