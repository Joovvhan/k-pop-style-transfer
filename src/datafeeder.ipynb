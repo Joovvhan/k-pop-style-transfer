{
 "cells": [
  {
   "cell_type": "code",
   "execution_count": 2,
   "metadata": {},
   "outputs": [],
   "source": [
    "import torch\n",
    "from torch.utils.data import Dataset, DataLoader"
   ]
  },
  {
   "cell_type": "code",
   "execution_count": 3,
   "metadata": {},
   "outputs": [],
   "source": [
    "import librosa"
   ]
  },
  {
   "cell_type": "code",
   "execution_count": 33,
   "metadata": {},
   "outputs": [],
   "source": [
    "from glob import glob\n",
    "import numpy as np"
   ]
  },
  {
   "cell_type": "code",
   "execution_count": 19,
   "metadata": {},
   "outputs": [],
   "source": [
    "import matplotlib.pyplot as plt"
   ]
  },
  {
   "cell_type": "code",
   "execution_count": 29,
   "metadata": {},
   "outputs": [],
   "source": [
    "import scipy.io.wavfile as wavfile"
   ]
  },
  {
   "cell_type": "code",
   "execution_count": 12,
   "metadata": {},
   "outputs": [],
   "source": [
    "# files = sorted(glob('../resource/*.wav'))"
   ]
  },
  {
   "cell_type": "code",
   "execution_count": 13,
   "metadata": {},
   "outputs": [],
   "source": [
    "# file = files[0]"
   ]
  },
  {
   "cell_type": "code",
   "execution_count": 34,
   "metadata": {},
   "outputs": [],
   "source": [
    "# for file in files:\n",
    "#     y, fs = librosa.core.load(file, sr=22050)\n",
    "#     y = y.T\n",
    "#     y = (y * 2 ** 15).astype(np.int16)\n",
    "#     wavfile.write(file.replace('.wav', '_22050.wav'), fs, y)"
   ]
  },
  {
   "cell_type": "code",
   "execution_count": 36,
   "metadata": {},
   "outputs": [],
   "source": [
    "files = sorted(glob('../resource/*22050.wav'))"
   ]
  },
  {
   "cell_type": "code",
   "execution_count": 37,
   "metadata": {},
   "outputs": [
    {
     "data": {
      "text/plain": [
       "['../resource/01. Bad Boy (O-B)_22050.wav',\n",
       " '../resource/02. Ice Cream (O-B)_22050.wav',\n",
       " '../resource/03. Red Flavor (O-B)_22050.wav',\n",
       " '../resource/04. Time for the Moon Night (O-B)_22050.wav',\n",
       " '../resource/05. Banana Allergy Monkey (O-B)_22050.wav',\n",
       " '../resource/06. What is Love - 1 (O-B)_22050.wav',\n",
       " '../resource/06. What is Love - 2 (O-B)_22050.wav',\n",
       " '../resource/07. Bingle Bangle (O-B)_22050.wav',\n",
       " '../resource/08. Kiss and Make Up (O-B)_22050.wav',\n",
       " '../resource/09. Popstars (O-B)_22050.wav',\n",
       " '../resource/10. Cookie Jar (O-B)_22050.wav',\n",
       " '../resource/11. Dumb Dumb (O-B)_22050.wav',\n",
       " '../resource/12. Power Up (O-B)_22050.wav',\n",
       " '../resource/13. Peek-A-Boo (O-B)_22050.wav',\n",
       " '../resource/15. BAAM (O-B)_22050.wav',\n",
       " '../resource/16. IDOL (O-B)_22050.wav',\n",
       " '../resource/17. DDU-DU DDU-DU (O-B)_22050.wav',\n",
       " '../resource/18. Oh My! (O-B)_22050.wav',\n",
       " '../resource/19. Summer Summer (O-B)_22050.wav',\n",
       " '../resource/20. SAVE ME SAVE YOU - 1 (O-B)_22050.wav',\n",
       " '../resource/20. SAVE ME SAVE YOU - 2 (O-B)_22050.wav',\n",
       " '../resource/21. Yes or Yes (O-B)_22050.wav',\n",
       " '../resource/22. Dance the Night Away - 1 (O-B)_22050.wav',\n",
       " '../resource/22. Dance the Night Away - 2 (O-B)_22050.wav',\n",
       " '../resource/23. FAKE LOVE - 1 (O-B)_22050.wav',\n",
       " '../resource/23. FAKE LOVE - 2 (O-B)_22050.wav',\n",
       " '../resource/24. Rookie (O-B)_22050.wav',\n",
       " '../resource/25. Fever (O-B)_22050.wav',\n",
       " '../resource/26. DALLA DALLA (O-B)_22050.wav',\n",
       " '../resource/27. ICY (O-B)_22050.wav',\n",
       " '../resource/28. HIP (O-B)_22050.wav',\n",
       " '../resource/29. Fancy (O-B)_22050.wav',\n",
       " '../resource/30. Playing with Fire (O-B)_22050.wav',\n",
       " '../resource/31. TT (O-B)_22050.wav',\n",
       " '../resource/32. DUN DUN (O-B)_22050.wav',\n",
       " '../resource/33. Kill This Love (O-B)_22050.wav',\n",
       " '../resource/34. WANNABE - 1 (O-B)_22050.wav',\n",
       " '../resource/34. WANNABE - 2 (O-B)_22050.wav']"
      ]
     },
     "execution_count": 37,
     "metadata": {},
     "output_type": "execute_result"
    }
   ],
   "source": [
    "files"
   ]
  },
  {
   "cell_type": "code",
   "execution_count": null,
   "metadata": {},
   "outputs": [],
   "source": []
  }
 ],
 "metadata": {
  "kernelspec": {
   "display_name": "Python 3",
   "language": "python",
   "name": "python3"
  },
  "language_info": {
   "codemirror_mode": {
    "name": "ipython",
    "version": 3
   },
   "file_extension": ".py",
   "mimetype": "text/x-python",
   "name": "python",
   "nbconvert_exporter": "python",
   "pygments_lexer": "ipython3",
   "version": "3.7.5"
  }
 },
 "nbformat": 4,
 "nbformat_minor": 2
}
